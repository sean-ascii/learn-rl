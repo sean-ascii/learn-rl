{
 "cells": [
  {
   "cell_type": "code",
   "execution_count": 20,
   "metadata": {},
   "outputs": [
    {
     "name": "stdout",
     "output_type": "stream",
     "text": [
      "tensor([[0, 1, 2, 3]])\n",
      "torch.return_types.max(\n",
      "values=tensor([3]),\n",
      "indices=tensor([3]))\n"
     ]
    },
    {
     "data": {
      "text/plain": [
       "tensor([[3]])"
      ]
     },
     "execution_count": 20,
     "metadata": {},
     "output_type": "execute_result"
    }
   ],
   "source": [
    "import torch\n",
    "\n",
    "x = torch.arange(4).reshape(1, 4)\n",
    "print(x)\n",
    "print(x.max(1))\n",
    "x.max(1).indices.view(1, 1)"
   ]
  },
  {
   "cell_type": "code",
   "execution_count": 28,
   "metadata": {},
   "outputs": [
    {
     "name": "stdout",
     "output_type": "stream",
     "text": [
      "tensor([0., 1., 2., 3., 4.])\n",
      "tensor([1., 2., 3.])\n"
     ]
    }
   ],
   "source": [
    "x = torch.arange(5, dtype=torch.float)\n",
    "print(x)\n",
    "means = x.unfold(0, 3, 1).mean(1)\n",
    "print(means)"
   ]
  },
  {
   "cell_type": "code",
   "execution_count": 30,
   "metadata": {},
   "outputs": [
    {
     "name": "stdout",
     "output_type": "stream",
     "text": [
      "tensor([ True,  True,  True, False,  True, False])\n"
     ]
    }
   ],
   "source": [
    "non_final_mask = torch.tensor(tuple(map(lambda s: s is not None,\n",
    "                                        [0, 0, 0, None, 0, None])), dtype=torch.bool)\n",
    "print(non_final_mask)"
   ]
  },
  {
   "cell_type": "code",
   "execution_count": 32,
   "metadata": {},
   "outputs": [
    {
     "data": {
      "text/plain": [
       "[0, 0, 0, 0]"
      ]
     },
     "execution_count": 32,
     "metadata": {},
     "output_type": "execute_result"
    }
   ],
   "source": [
    "# non_final_next_states = torch.cat([s for s in [0, 0, 0, None, 0, None] if s is not None])\n",
    "# print(non_final_next_states)\n",
    "[s for s in [0, 0, 0, None, 0, None] if s is not None]\n"
   ]
  }
 ],
 "metadata": {
  "kernelspec": {
   "display_name": "spinningup",
   "language": "python",
   "name": "python3"
  },
  "language_info": {
   "codemirror_mode": {
    "name": "ipython",
    "version": 3
   },
   "file_extension": ".py",
   "mimetype": "text/x-python",
   "name": "python",
   "nbconvert_exporter": "python",
   "pygments_lexer": "ipython3",
   "version": "3.10.14"
  }
 },
 "nbformat": 4,
 "nbformat_minor": 2
}
