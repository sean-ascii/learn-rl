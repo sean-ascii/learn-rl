{
 "cells": [
  {
   "cell_type": "code",
   "execution_count": 1,
   "metadata": {},
   "outputs": [],
   "source": [
    "from datetime import datetime"
   ]
  },
  {
   "cell_type": "code",
   "execution_count": 5,
   "metadata": {},
   "outputs": [
    {
     "name": "stdout",
     "output_type": "stream",
     "text": [
      "2025-01-29 09:50:03.506187\n",
      "2025-01-29 09:50\n",
      "2025-01-29 09\n",
      " 2025-01-29 09_50\n"
     ]
    }
   ],
   "source": [
    "print(datetime.now())\n",
    "timenow = str(datetime.now())[0:-10]\n",
    "print(timenow)\n",
    "print(timenow[0:13])\n",
    "timenow = ' ' + timenow[0:13] + '_' + timenow[-2::]\n",
    "print(timenow)"
   ]
  }
 ],
 "metadata": {
  "kernelspec": {
   "display_name": "learn-rl",
   "language": "python",
   "name": "python3"
  },
  "language_info": {
   "codemirror_mode": {
    "name": "ipython",
    "version": 3
   },
   "file_extension": ".py",
   "mimetype": "text/x-python",
   "name": "python",
   "nbconvert_exporter": "python",
   "pygments_lexer": "ipython3",
   "version": "3.10.16"
  }
 },
 "nbformat": 4,
 "nbformat_minor": 2
}
